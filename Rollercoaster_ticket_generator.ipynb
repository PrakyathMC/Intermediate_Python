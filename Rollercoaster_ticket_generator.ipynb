{
 "cells": [
  {
   "cell_type": "markdown",
   "id": "17bd8fdf",
   "metadata": {},
   "source": [
    "### We build a program to decide which ticket to give to a certain person for a Rollercoaster ride based on their age and calculate their total ticket amount."
   ]
  },
  {
   "cell_type": "code",
   "execution_count": 9,
   "id": "023d246a",
   "metadata": {},
   "outputs": [
    {
     "name": "stdout",
     "output_type": "stream",
     "text": [
      "Welcome to the rollercoaster!\n",
      "What is your height in cm?\n",
      " 171\n",
      "You can ride the rollercoaster!\n",
      "What is your age?\n",
      " 22\n",
      "Adult ticket is 12$. \n",
      "Do you want a photo taken?\n",
      " Y or N.Y\n",
      "Your final bill is 15\n"
     ]
    }
   ],
   "source": [
    "print(\"Welcome to the rollercoaster!\")\n",
    "height = int(input(\"What is your height in cm?\\n \"))\n",
    "\n",
    "if height > 120:\n",
    "    print(\"You can ride the rollercoaster!\")\n",
    "    age = int(input(\"What is your age?\\n \"))\n",
    "    \n",
    "    if age < 12:\n",
    "        print(\"Child tickets are 5$.\")\n",
    "        bill = 5\n",
    "        \n",
    "    elif age <= 18:\n",
    "        print(\"Youth tickets are 7$.\")\n",
    "        bill = 7\n",
    "        \n",
    "    elif age >= 45 and age <= 50:\n",
    "        print(\"MIdlife Crisis Free ticket, everythingis going to be alright!!\")\n",
    "        bill = 0\n",
    "        \n",
    "    else:\n",
    "        print(\"Adult ticket is 12$. \")\n",
    "        bill = 12\n",
    "        \n",
    "    wants_photo = input(\"Do you want a photo taken?\\n Y or N.\")\n",
    "    \n",
    "    if wants_photo == \"Y\" and age >= 45 and age <= 50:\n",
    "        bill += 0\n",
    "    else:\n",
    "        bill += 3\n",
    "    \n",
    "    print(f\"Your final bill is {bill}\")\n",
    "    \n",
    "else:\n",
    "    print(\"Sorry, you have to grow tall befire you can ride\")"
   ]
  }
 ],
 "metadata": {
  "kernelspec": {
   "display_name": "Python 3",
   "language": "python",
   "name": "python3"
  },
  "language_info": {
   "codemirror_mode": {
    "name": "ipython",
    "version": 3
   },
   "file_extension": ".py",
   "mimetype": "text/x-python",
   "name": "python",
   "nbconvert_exporter": "python",
   "pygments_lexer": "ipython3",
   "version": "3.8.8"
  }
 },
 "nbformat": 4,
 "nbformat_minor": 5
}
