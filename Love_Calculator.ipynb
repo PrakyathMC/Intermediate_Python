{
 "cells": [
  {
   "cell_type": "code",
   "execution_count": 12,
   "id": "fe719bba",
   "metadata": {},
   "outputs": [
    {
     "name": "stdout",
     "output_type": "stream",
     "text": [
      "Welcome to the Love Calculator!\n",
      "What is your name? \n",
      "justin\n",
      "What is their name? \n",
      "selena\n",
      "Your love score is 43%, you are alright together\n"
     ]
    }
   ],
   "source": [
    "print(\"Welcome to the Love Calculator!\")\n",
    "name1 = input(\"What is your name? \\n\")\n",
    "name2 = input(\"What is their name? \\n\")\n",
    "\n",
    "\n",
    "combined_string = name1 + name2\n",
    "lower_case_string = combined_string.lower()\n",
    "\n",
    "t = combined_string.count(\"t\")\n",
    "r = combined_string.count(\"r\")\n",
    "u = combined_string.count(\"u\")\n",
    "e = combined_string.count(\"e\")\n",
    "\n",
    "true = t + r + u + e\n",
    "\n",
    "l = combined_string.count(\"l\")\n",
    "o = combined_string.count(\"o\")\n",
    "v = combined_string.count(\"v\")\n",
    "e = combined_string.count(\"e\")\n",
    "\n",
    "love = l + o + v + e\n",
    "\n",
    "love_score = int(str(true) + str(love))\n",
    "\n",
    "if (love_score < 10) or (love_score > 90):\n",
    "    print(f\"Your love score is {love_score}%, You go together like coke and mentos\")\n",
    "elif (love_score >= 40) and (love_score <= 50):\n",
    "    print(f\"Your love score is {love_score}%, you are alright together\")\n",
    "else:\n",
    "    print(f\"Your love score is {love_score}%\")"
   ]
  }
 ],
 "metadata": {
  "kernelspec": {
   "display_name": "Python 3",
   "language": "python",
   "name": "python3"
  },
  "language_info": {
   "codemirror_mode": {
    "name": "ipython",
    "version": 3
   },
   "file_extension": ".py",
   "mimetype": "text/x-python",
   "name": "python",
   "nbconvert_exporter": "python",
   "pygments_lexer": "ipython3",
   "version": "3.8.8"
  }
 },
 "nbformat": 4,
 "nbformat_minor": 5
}
