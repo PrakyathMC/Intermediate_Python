{
 "cells": [
  {
   "cell_type": "markdown",
   "id": "775e47ef",
   "metadata": {},
   "source": [
    "### We create a Calculator by creating 4 function, each performing an arthemetic operation(i.e + ,- ,* ,/)\n",
    "### We can then create a new function in which we pass in the inputs and decide if we want to carry on with the output and continue calculating or we can use Recurssion to start a new Calculator."
   ]
  },
  {
   "cell_type": "code",
   "execution_count": null,
   "id": "6854ac16",
   "metadata": {},
   "outputs": [
    {
     "name": "stdout",
     "output_type": "stream",
     "text": [
      "What is the first number?: 5\n",
      "+\n",
      "-\n",
      "*\n",
      "/\n",
      "Pick an operation: +\n",
      "\n",
      "What is the next number?: 10\n",
      "5.0 + 10.0 = 15.0\n",
      "\n",
      "Type 'y' to continue calculating with 15.0, or type 'n' to start a new calculator: y\n",
      "Pick an operation: *\n",
      "\n",
      "What is the next number?: 2\n",
      "15.0 * 2.0 = 30.0\n",
      "\n",
      "Type 'y' to continue calculating with 30.0, or type 'n' to start a new calculator: n\n"
     ]
    }
   ],
   "source": [
    "# Addition\n",
    "def add(n1, n2):\n",
    "    return n1 + n2\n",
    "\n",
    "# Subtract\n",
    "def subtract(n1, n2):\n",
    "    return n1 - n2\n",
    "\n",
    "# Multiply\n",
    "def multiply(n1, n2):\n",
    "    return n1 * n2\n",
    "\n",
    "# Divide\n",
    "def divide(n1, n2):\n",
    "    return n1 / n2\n",
    "\n",
    "\n",
    "operations = {\n",
    "  '+' : add, \n",
    "  '-' : subtract, \n",
    "  '*' : multiply, \n",
    "  '/' : divide\n",
    "}\n",
    "\n",
    "def calculator():\n",
    "    \n",
    "    num1 = float(input(\"What is the first number?: \"))\n",
    "  \n",
    "    for symbol in operations:\n",
    "        print(symbol)\n",
    "  \n",
    "    should_continue = True  \n",
    "  \n",
    "    while should_continue:\n",
    "        operation_symbol = input(\"Pick an operation: \")\n",
    "        num2 = float(input(\"\\nWhat is the next number?: \"))\n",
    "        calculation_function = operations[operation_symbol]\n",
    "        answer = calculation_function(num1, num2)\n",
    "    \n",
    "        print(f\"{num1} {operation_symbol} {num2} = {answer}\")\n",
    "  \n",
    "        if input(f\"\\nType 'y' to continue calculating with {answer}, or type 'n' to start a new calculator: \") == 'y':\n",
    "            num1 = answer\n",
    "        else:\n",
    "            should_continue = False\n",
    "            \n",
    "            # Implementing Recurssion\n",
    "            calculator()\n",
    "\n",
    "calculator()"
   ]
  }
 ],
 "metadata": {
  "kernelspec": {
   "display_name": "Python 3",
   "language": "python",
   "name": "python3"
  },
  "language_info": {
   "codemirror_mode": {
    "name": "ipython",
    "version": 3
   },
   "file_extension": ".py",
   "mimetype": "text/x-python",
   "name": "python",
   "nbconvert_exporter": "python",
   "pygments_lexer": "ipython3",
   "version": "3.8.8"
  }
 },
 "nbformat": 4,
 "nbformat_minor": 5
}
