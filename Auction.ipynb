{
 "cells": [
  {
   "cell_type": "markdown",
   "id": "817c1981",
   "metadata": {},
   "source": [
    "### We can create an auction using While loop, the inputs are take and inputed into a new dictionary 'bids'.\n",
    "### We then access a function in which we use for loop to find the largest bid and display it when there are no more bidders."
   ]
  },
  {
   "cell_type": "code",
   "execution_count": 1,
   "id": "292df81d",
   "metadata": {},
   "outputs": [
    {
     "name": "stdout",
     "output_type": "stream",
     "text": [
      "What is the bidder's name?: Harry\n",
      "What is your bid?: $77\n",
      "Are there any other bidders? Yes or No?\n",
      "Yes\n",
      "What is the bidder's name?: Hermoine\n",
      "What is your bid?: $88\n",
      "Are there any other bidders? Yes or No?\n",
      "No\n",
      "The winner is Hermoine with a bid of 88\n"
     ]
    }
   ],
   "source": [
    "bids = {}\n",
    "bidding_finished = False\n",
    "\n",
    "\n",
    "# function to find the highest bidder\n",
    "def find_highest_bidder(bidding_record):\n",
    "    highest_bid = 0\n",
    "    \n",
    "\n",
    "    for bidder in bidding_record:\n",
    "        bid_amt = bidding_record[bidder]\n",
    "        if bid_amt > highest_bid:\n",
    "            highest_bid = bid_amt\n",
    "            winner = bidder\n",
    "    print(f\"The winner is {winner} with a bid of {highest_bid}\")\n",
    "\n",
    "# while loop to carry on the auction process and i/p into bids{}\n",
    "while not bidding_finished:\n",
    "    name = input(\"What is the bidder's name?: \")\n",
    "    price = int(input(\"What is your bid?: $\"))\n",
    "    bids[name] = price\n",
    "    should_continue = input(\"Are there any other bidders? Yes or No?\\n\")\n",
    "    if should_continue == 'No':\n",
    "        bidding_finished = True\n",
    "        find_highest_bidder(bids)"
   ]
  }
 ],
 "metadata": {
  "kernelspec": {
   "display_name": "Python 3",
   "language": "python",
   "name": "python3"
  },
  "language_info": {
   "codemirror_mode": {
    "name": "ipython",
    "version": 3
   },
   "file_extension": ".py",
   "mimetype": "text/x-python",
   "name": "python",
   "nbconvert_exporter": "python",
   "pygments_lexer": "ipython3",
   "version": "3.8.8"
  }
 },
 "nbformat": 4,
 "nbformat_minor": 5
}
