{
 "cells": [
  {
   "cell_type": "markdown",
   "id": "f2e0532c",
   "metadata": {},
   "source": [
    "### The Ceaser's cipher is useful to encrypt and decrypt messages.\n",
    "### In the following program we can encrypt a given message based on a shift that is user defied."
   ]
  },
  {
   "cell_type": "code",
   "execution_count": 14,
   "id": "21b78c89",
   "metadata": {},
   "outputs": [
    {
     "name": "stdout",
     "output_type": "stream",
     "text": [
      "\n",
      "Type 'encode' to encrypt, type 'decode' to decrypt:\n",
      "encode\n",
      "\n",
      "Type your message:\n",
      "hello\n",
      "\n",
      "Type the shift number:\n",
      "5\n",
      "Here's the encoded result: mjqqt\n",
      "\n",
      "Type 'yes' if you want to go again. Otherwise type 'no'.\n",
      "yes\n",
      "\n",
      "Type 'encode' to encrypt, type 'decode' to decrypt:\n",
      "decode\n",
      "\n",
      "Type your message:\n",
      "mjqqt\n",
      "\n",
      "Type the shift number:\n",
      "5\n",
      "Here's the decoded result: hello\n",
      "\n",
      "Type 'yes' if you want to go again. Otherwise type 'no'.\n",
      "yes\n",
      "\n",
      "Type 'encode' to encrypt, type 'decode' to decrypt:\n",
      "encode\n",
      "\n",
      "Type your message:\n",
      "hello123!@#$%\n",
      "\n",
      "Type the shift number:\n",
      "4\n",
      "Here's the encoded result: lipps123!@#$%\n",
      "\n",
      "Type 'yes' if you want to go again. Otherwise type 'no'.\n",
      "no\n",
      "Goodbye\n"
     ]
    }
   ],
   "source": [
    "alphabet = ['a', 'b', 'c', 'd', 'e', 'f', 'g', 'h', 'i', 'j', 'k', 'l', 'm', 'n', 'o', 'p', 'q', 'r', 's', 't', 'u', 'v', 'w', 'x', 'y', 'z', 'a', 'b', 'c', 'd', 'e', 'f', 'g', 'h', 'i', 'j', 'k', 'l', 'm', 'n', 'o', 'p', 'q', 'r', 's', 't', 'u', 'v', 'w', 'x', 'y', 'z']\n",
    "\n",
    "# function to encode and decode\n",
    "def caesar(start_text, shift_amount, cipher_direction):\n",
    "    end_text = \"\"\n",
    "    \n",
    "    # turning the shift value to negative\n",
    "    if cipher_direction == \"decode\":\n",
    "        shift_amount *= -1\n",
    "    for char in start_text:\n",
    "        if char in alphabet:\n",
    "            position = alphabet.index(char)\n",
    "            new_position = position + shift_amount\n",
    "            end_text += alphabet[new_position]\n",
    "        else:\n",
    "                end_text += char\n",
    "    print(f\"Here's the {cipher_direction}d result: {end_text}\")\n",
    "\n",
    "\n",
    "while not should_end:\n",
    "\n",
    "    direction = input(\"\\nType 'encode' to encrypt, type 'decode' to decrypt:\\n\")\n",
    "    text = input(\"\\nType your message:\\n\").lower()\n",
    "    shift = int(input(\"\\nType the shift number:\\n\"))\n",
    "    \n",
    "    # reducing the shift value to not be higher than total value in alphabets\n",
    "    shift = shift % 26\n",
    "\n",
    "    caesar(start_text=text, shift_amount=shift, cipher_direction=direction)\n",
    "\n",
    "    restart = input(\"\\nType 'yes' if you want to go again. Otherwise type 'no'.\\n\")\n",
    "    if restart == \"no\":\n",
    "        should_end = True\n",
    "        print(\"Goodbye\")\n"
   ]
  },
  {
   "cell_type": "code",
   "execution_count": null,
   "id": "89cad340",
   "metadata": {},
   "outputs": [],
   "source": []
  }
 ],
 "metadata": {
  "kernelspec": {
   "display_name": "Python 3",
   "language": "python",
   "name": "python3"
  },
  "language_info": {
   "codemirror_mode": {
    "name": "ipython",
    "version": 3
   },
   "file_extension": ".py",
   "mimetype": "text/x-python",
   "name": "python",
   "nbconvert_exporter": "python",
   "pygments_lexer": "ipython3",
   "version": "3.8.8"
  }
 },
 "nbformat": 4,
 "nbformat_minor": 5
}
